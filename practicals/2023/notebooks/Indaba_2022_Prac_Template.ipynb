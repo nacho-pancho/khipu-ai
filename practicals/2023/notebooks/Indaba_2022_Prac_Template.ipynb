{
 "cells": [
  {
   "cell_type": "markdown",
   "metadata": {
    "id": "m2s4kN_QPQVe"
   },
   "source": [
    "# **[Practical Heading]**\n",
    "\n",
    "<img src=\"https://www.pulsecarshalton.co.uk/wp-content/uploads/2016/08/jk-placeholder-image.jpg\" width=\"60%\" />\n",
    "\n",
    "[Add prac relevant image.]\n",
    "\n",
    "<a href=\"https://colab.research.google.com/github/deep-learning-indaba/indaba-pracs-2022/blob/main/practicals/Indaba_2022_Prac_Template.ipynb\" target=\"_parent\"><img src=\"https://colab.research.google.com/assets/colab-badge.svg\" alt=\"Open In Colab\"/></a> [Change colab link to point to prac.]\n",
    "\n",
    "© Deep Learning Indaba 2022. Apache License 2.0.\n",
    "\n",
    "**Authors:**\n",
    "\n",
    "**Introduction:** \n",
    "\n",
    "[Intro to the topic. Probably between 3-5 lines.]\n",
    "\n",
    "**Topics:** \n",
    "\n",
    "Content: [e.g. Reinforcement Learning, Computer Vision etc. Can be more than one.]  \n",
    "Level: [Beginner, Intermediate, Advanced.] \n",
    "\n",
    "[Let's use the colours from notion here. E.g. <font color='grey'>`Beginner`</font> and <font color='blue'>`Generative Models`</font>.]\n",
    "\n",
    "\n",
    "**Aims/Learning Objectives:**\n",
    "\n",
    "[Points on the exact learning outcomes from the prac. This should probably be <=5 things.]\n",
    "\n",
    "**Prerequisites:**\n",
    "\n",
    "[Knowledge required for this prac. You can link a relevant parallel track session, blogs, papers, courses, topics etc.]\n",
    "\n",
    "**Outline:** \n",
    "\n",
    "[Points that link to each section. Auto-generate following the instructions [here](https://stackoverflow.com/questions/67458990/how-to-automatically-generate-a-table-of-contents-in-colab-notebook).]\n",
    "\n",
    "**Before you start:**\n",
    "\n",
    "For this practical, you will need to use a GPU to speed up training. To do this, go to the \"Runtime\" menu in Colab, select \"Change runtime type\" and then in the popup menu, choose \"GPU\" in the \"Hardware accelerator\" box.\n",
    "\n",
    "[Any other tasks just before starting.]\n"
   ]
  },
  {
   "cell_type": "markdown",
   "metadata": {
    "id": "6EqhIg1odqg0"
   },
   "source": [
    "## Installation and Imports"
   ]
  },
  {
   "cell_type": "code",
   "execution_count": null,
   "metadata": {
    "cellView": "form",
    "id": "4boGA9rYdt9l"
   },
   "outputs": [],
   "source": [
    "## Install and import anything required. Capture hides the output from the cell.\n",
    "# @title Install and import required packages. (Run Cell)\n",
    "\n",
    "import os\n",
    "\n",
    "# https://stackoverflow.com/questions/68340858/in-google-colab-is-there-a-programing-way-to-check-which-runtime-like-gpu-or-tpu\n",
    "if int(os.environ[\"COLAB_GPU\"]) > 0:\n",
    "    print(\"a GPU is connected.\")\n",
    "elif \"COLAB_TPU_ADDR\" in os.environ and os.environ[\"COLAB_TPU_ADDR\"]:\n",
    "    print(\"A TPU is connected.\")\n",
    "    import jax.tools.colab_tpu\n",
    "\n",
    "    jax.tools.colab_tpu.setup_tpu()\n",
    "else:\n",
    "    print(\"Only CPU accelerator is connected.\")\n",
    "\n",
    "import jax\n",
    "import jax.numpy as jnp\n",
    "from jax import grad, jit, vmap\n",
    "\n",
    "import matplotlib.pyplot as plt\n",
    "import numpy as np"
   ]
  },
  {
   "cell_type": "code",
   "execution_count": null,
   "metadata": {
    "cellView": "form",
    "id": "-9X10jhocGaS"
   },
   "outputs": [],
   "source": [
    "# @title Helper Functions. (Run Cell)"
   ]
  },
  {
   "cell_type": "code",
   "execution_count": null,
   "metadata": {
    "cellView": "form",
    "id": "rfwoGkW3cLuk"
   },
   "outputs": [],
   "source": [
    "# @title Check what device you are using (Run Cell)\n",
    "print(f\"Num devices: {jax.device_count()}\")\n",
    "print(f\" Devices: {jax.devices()}\")"
   ]
  },
  {
   "cell_type": "markdown",
   "metadata": {
    "id": "-ZUp8i37dFbU"
   },
   "source": [
    "## **Sample Section 1**\n",
    "\n",
    "[Background/content for the section.]"
   ]
  },
  {
   "cell_type": "markdown",
   "metadata": {
    "id": "ii__Bc27epiJ"
   },
   "source": [
    "### Subsection - <font color='blue'>`Beginner`</font>"
   ]
  },
  {
   "cell_type": "markdown",
   "metadata": {
    "id": "4PbcFsfAibBu"
   },
   "source": [
    "Math foundations:\n"
   ]
  },
  {
   "cell_type": "markdown",
   "metadata": {
    "id": "axeZiGJxibBw"
   },
   "source": [
    "**Math Task:**\n",
    "\n",
    "[Optional math task or ask multiple choice question. E.g. the derivation of this would equal a, b or c. We could check this at the end of the prac.]\n"
   ]
  },
  {
   "cell_type": "code",
   "execution_count": null,
   "metadata": {
    "cellView": "form",
    "id": "vCURjj1HkQkW"
   },
   "outputs": [],
   "source": [
    "selection = \"a\"  # @param [\"a\", \"b\", \"c\"]\n",
    "print(f\"You selected: {selection}\")\n",
    "\n",
    "correct_answer = \"a\"\n",
    "assert selection == correct_answer, \"Incorrect answer, hint ...\"\n",
    "\n",
    "print(\"Nice, you got the correct answer!\")"
   ]
  },
  {
   "cell_type": "markdown",
   "metadata": {
    "id": "HvbKqrRniVDa"
   },
   "source": [
    "Code demonstration"
   ]
  },
  {
   "cell_type": "code",
   "execution_count": null,
   "metadata": {
    "id": "mNQ8Dgx2Wl8Q"
   },
   "outputs": [],
   "source": [
    "# Code demonstration"
   ]
  },
  {
   "cell_type": "markdown",
   "metadata": {
    "id": "jukLIz2oeiq9"
   },
   "source": [
    "**Code Task:**"
   ]
  },
  {
   "cell_type": "code",
   "execution_count": null,
   "metadata": {
    "id": "fFXVVGa6elwN"
   },
   "outputs": [],
   "source": [
    "# Code to be implemented during practical\n",
    "# You should prove the function signature."
   ]
  },
  {
   "cell_type": "code",
   "execution_count": null,
   "metadata": {
    "id": "lDq7CAcAd49i"
   },
   "outputs": [],
   "source": [
    "# @title Answer to code task (Try not to peek until you've given it a good try!')"
   ]
  },
  {
   "cell_type": "markdown",
   "metadata": {
    "id": "QhIkaajyaYGl"
   },
   "source": [
    "**Group Task:**\n",
    "\n",
    "Task that involves asking your neighbour or a group a question."
   ]
  },
  {
   "cell_type": "markdown",
   "metadata": {
    "id": "Rd7xAVznfBQU"
   },
   "source": [
    "### Subsection - <font color='orange'>`Intermediate`</font>"
   ]
  },
  {
   "cell_type": "markdown",
   "metadata": {
    "id": "jWlwCNlqfBQV"
   },
   "source": [
    "Math foundations:\n"
   ]
  },
  {
   "cell_type": "markdown",
   "metadata": {
    "id": "8YcpW8yAfBQW"
   },
   "source": [
    "**Math Task:**\n",
    "\n",
    "[Optional math task or ask multiple choice question. E.g. the derivation of this would equal a, b or c. We could check this at the end of the prac.]\n"
   ]
  },
  {
   "cell_type": "code",
   "execution_count": null,
   "metadata": {
    "cellView": "form",
    "id": "nyvX-3OJfBQW"
   },
   "outputs": [],
   "source": [
    "selection = \"a\"  # @param [\"a\", \"b\", \"c\"]\n",
    "print(f\"You selected: {selection}\")\n",
    "\n",
    "correct_answer = \"a\"\n",
    "assert selection == correct_answer, \"Incorrect answer, hint ...\"\n",
    "\n",
    "print(\"Nice, you got the correct answer!\")"
   ]
  },
  {
   "cell_type": "markdown",
   "metadata": {
    "id": "HsUbInznfBQX"
   },
   "source": [
    "Code demonstration"
   ]
  },
  {
   "cell_type": "code",
   "execution_count": null,
   "metadata": {
    "id": "qH-P90ULfBQY"
   },
   "outputs": [],
   "source": [
    "# Code demonstration"
   ]
  },
  {
   "cell_type": "markdown",
   "metadata": {
    "id": "iQJtf6sCfBQY"
   },
   "source": [
    "**Code Task:**"
   ]
  },
  {
   "cell_type": "code",
   "execution_count": null,
   "metadata": {
    "id": "LICrxTN5fBQZ"
   },
   "outputs": [],
   "source": [
    "# Code to be implemented during practical\n",
    "# You should prove the function signature."
   ]
  },
  {
   "cell_type": "code",
   "execution_count": null,
   "metadata": {
    "id": "iE1YNtLkfBQZ"
   },
   "outputs": [],
   "source": [
    "# @title Answer to code task (Try not to peek until you've given it a good try!')"
   ]
  },
  {
   "cell_type": "markdown",
   "metadata": {
    "id": "vZe6TDuNfBQa"
   },
   "source": [
    "**Group Task:**\n",
    "\n",
    "Task that involves asking your neighbour or a group a question."
   ]
  },
  {
   "cell_type": "markdown",
   "metadata": {
    "id": "7SrT6swYgCm9"
   },
   "source": [
    "### Subsection - <font color='green'>`Advanced`</font>"
   ]
  },
  {
   "cell_type": "markdown",
   "metadata": {
    "id": "tYV9_wJcgCm-"
   },
   "source": [
    "Math foundations:\n"
   ]
  },
  {
   "cell_type": "markdown",
   "metadata": {
    "id": "6tWFVqp-gCm_"
   },
   "source": [
    "**Math Task:**\n",
    "\n",
    "[Optional math task or ask multiple choice question. E.g. the derivation of this would equal a, b or c. We could check this at the end of the prac.]\n"
   ]
  },
  {
   "cell_type": "code",
   "execution_count": null,
   "metadata": {
    "cellView": "form",
    "id": "bWAPYvKvgCm_"
   },
   "outputs": [],
   "source": [
    "selection = \"a\"  # @param [\"a\", \"b\", \"c\"]\n",
    "print(f\"You selected: {selection}\")\n",
    "\n",
    "correct_answer = \"a\"\n",
    "assert selection == correct_answer, \"Incorrect answer, hint ...\"\n",
    "\n",
    "print(\"Nice, you got the correct answer!\")"
   ]
  },
  {
   "cell_type": "markdown",
   "metadata": {
    "id": "J-sxMredgCnA"
   },
   "source": [
    "Code demonstration"
   ]
  },
  {
   "cell_type": "code",
   "execution_count": null,
   "metadata": {
    "id": "B13f7D9SgCnB"
   },
   "outputs": [],
   "source": [
    "# Code demonstration"
   ]
  },
  {
   "cell_type": "markdown",
   "metadata": {
    "id": "RHVQdNtqgCnB"
   },
   "source": [
    "**Code Task:**"
   ]
  },
  {
   "cell_type": "code",
   "execution_count": null,
   "metadata": {
    "id": "DAGSVE4igCnC"
   },
   "outputs": [],
   "source": [
    "# Code to be implemented during practical\n",
    "# You should prove the function signature."
   ]
  },
  {
   "cell_type": "code",
   "execution_count": null,
   "metadata": {
    "id": "oTppRxGlgCnC"
   },
   "outputs": [],
   "source": [
    "# @title Answer to code task (Try not to peek until you've given it a good try!')"
   ]
  },
  {
   "cell_type": "markdown",
   "metadata": {
    "id": "8q7WqzAVgCnD"
   },
   "source": [
    "**Group Task:**\n",
    "\n",
    "Task that involves asking your neighbour or a group a question."
   ]
  },
  {
   "cell_type": "markdown",
   "metadata": {
    "id": "h7N-PXjlgkAd"
   },
   "source": [
    "### Subsection - <font color='purple'>`Optional`</font>"
   ]
  },
  {
   "cell_type": "markdown",
   "metadata": {
    "id": "OXDPiQMHgkAe"
   },
   "source": [
    "Math foundations:\n"
   ]
  },
  {
   "cell_type": "markdown",
   "metadata": {
    "id": "tGEzmGEkgkAe"
   },
   "source": [
    "**Math Task:**\n",
    "\n",
    "[Optional math task or ask multiple choice question. E.g. the derivation of this would equal a, b or c. We could check this at the end of the prac.]\n"
   ]
  },
  {
   "cell_type": "code",
   "execution_count": null,
   "metadata": {
    "cellView": "form",
    "id": "kbeCT6qfgkAf"
   },
   "outputs": [],
   "source": [
    "selection = \"a\"  # @param [\"a\", \"b\", \"c\"]\n",
    "print(f\"You selected: {selection}\")\n",
    "\n",
    "correct_answer = \"a\"\n",
    "assert selection == correct_answer, \"Incorrect answer, hint ...\"\n",
    "\n",
    "print(\"Nice, you got the correct answer!\")"
   ]
  },
  {
   "cell_type": "markdown",
   "metadata": {
    "id": "NgccgCDjgkAg"
   },
   "source": [
    "Code demonstration"
   ]
  },
  {
   "cell_type": "code",
   "execution_count": null,
   "metadata": {
    "id": "3uk14cnTgkAh"
   },
   "outputs": [],
   "source": [
    "# Code demonstration"
   ]
  },
  {
   "cell_type": "markdown",
   "metadata": {
    "id": "5IHFxhVWgkAi"
   },
   "source": [
    "**Code Task:**"
   ]
  },
  {
   "cell_type": "code",
   "execution_count": null,
   "metadata": {
    "id": "qVP_4c03gkAi"
   },
   "outputs": [],
   "source": [
    "# Code to be implemented during practical\n",
    "# You should prove the function signature."
   ]
  },
  {
   "cell_type": "code",
   "execution_count": null,
   "metadata": {
    "id": "JjZqw2z0gkAj"
   },
   "outputs": [],
   "source": [
    "# @title Answer to code task (Try not to peek until you've given it a good try!')"
   ]
  },
  {
   "cell_type": "markdown",
   "metadata": {
    "id": "FVw9C8GugkAj"
   },
   "source": [
    "**Group Task:**\n",
    "\n",
    "Task that involves asking your neighbour or a group a question."
   ]
  },
  {
   "cell_type": "markdown",
   "metadata": {
    "id": "WILOYJH4gCnD"
   },
   "source": [
    "### Section Quiz \n",
    "\n",
    "Optional end of section quiz. Below is an example of an assessment."
   ]
  },
  {
   "cell_type": "code",
   "execution_count": null,
   "metadata": {
    "id": "N5iFeOKOgCnE"
   },
   "outputs": [],
   "source": [
    "# @title Generate Quiz Form. (Run Cell)\n",
    "from IPython.display import HTML\n",
    "\n",
    "HTML(\n",
    "    \"\"\"\n",
    "<iframe \n",
    "\tsrc=\"https://forms.gle/zbJoTSz3nfYq1VrY6\",\n",
    "  width=\"80%\" \n",
    "\theight=\"1200px\" >\n",
    "\tLoading...\n",
    "</iframe>\n",
    "\"\"\"\n",
    ")"
   ]
  },
  {
   "cell_type": "markdown",
   "metadata": {
    "id": "e9NW58_3hAg2"
   },
   "source": [
    "## **Sample Section 2**\n",
    "\n",
    "[Background/content for the section.]"
   ]
  },
  {
   "cell_type": "markdown",
   "metadata": {
    "id": "bA_2coZvhAg3"
   },
   "source": [
    "### Subsection - <font color='blue'>`Beginner`</font>"
   ]
  },
  {
   "cell_type": "markdown",
   "metadata": {
    "id": "q1I8M0zkhAg3"
   },
   "source": [
    "Math foundations:\n"
   ]
  },
  {
   "cell_type": "markdown",
   "metadata": {
    "id": "0Ue8vgIqhAg4"
   },
   "source": [
    "**Math Task:**\n",
    "\n",
    "[Optional math task or ask multiple choice question. E.g. the derivation of this would equal a, b or c. We could check this at the end of the prac.]\n"
   ]
  },
  {
   "cell_type": "code",
   "execution_count": null,
   "metadata": {
    "cellView": "form",
    "id": "0EDwsEoFhAg4"
   },
   "outputs": [],
   "source": [
    "selection = \"a\"  # @param [\"a\", \"b\", \"c\"]\n",
    "print(f\"You selected: {selection}\")\n",
    "\n",
    "correct_answer = \"a\"\n",
    "assert selection == correct_answer, \"Incorrect answer, hint ...\"\n",
    "\n",
    "print(\"Nice, you got the correct answer!\")"
   ]
  },
  {
   "cell_type": "markdown",
   "metadata": {
    "id": "I-La9MnkhAg7"
   },
   "source": [
    "Code demonstration"
   ]
  },
  {
   "cell_type": "code",
   "execution_count": null,
   "metadata": {
    "id": "qoFbSQWGhAg7"
   },
   "outputs": [],
   "source": [
    "# Code demonstration"
   ]
  },
  {
   "cell_type": "markdown",
   "metadata": {
    "id": "sMU5bEAdhAg7"
   },
   "source": [
    "**Code Task:**"
   ]
  },
  {
   "cell_type": "code",
   "execution_count": null,
   "metadata": {
    "id": "5gbBCDwQhAg8"
   },
   "outputs": [],
   "source": [
    "# Code to be implemented during practical\n",
    "# You should prove the function signature."
   ]
  },
  {
   "cell_type": "code",
   "execution_count": null,
   "metadata": {
    "id": "ElfWTStxhAg8"
   },
   "outputs": [],
   "source": [
    "# @title Answer to code task (Try not to peek until you've given it a good try!')"
   ]
  },
  {
   "cell_type": "markdown",
   "metadata": {
    "id": "W0-GWYVEhAg9"
   },
   "source": [
    "**Group Task:**\n",
    "\n",
    "Task that involves asking your neighbour or a group a question."
   ]
  },
  {
   "cell_type": "markdown",
   "metadata": {
    "id": "BKtMEnRkhAg9"
   },
   "source": [
    "### Subsection - <font color='orange'>`Intermediate`</font>"
   ]
  },
  {
   "cell_type": "markdown",
   "metadata": {
    "id": "ZnFpRAi_hAg-"
   },
   "source": [
    "Math foundations:\n"
   ]
  },
  {
   "cell_type": "markdown",
   "metadata": {
    "id": "NAQn8NUPhAg-"
   },
   "source": [
    "**Math Task:**\n",
    "\n",
    "[Optional math task or ask multiple choice question. E.g. the derivation of this would equal a, b or c. We could check this at the end of the prac.]\n"
   ]
  },
  {
   "cell_type": "code",
   "execution_count": null,
   "metadata": {
    "cellView": "form",
    "id": "kchv_MD3hAg-"
   },
   "outputs": [],
   "source": [
    "selection = \"a\"  # @param [\"a\", \"b\", \"c\"]\n",
    "print(f\"You selected: {selection}\")\n",
    "\n",
    "correct_answer = \"a\"\n",
    "assert selection == correct_answer, \"Incorrect answer, hint ...\"\n",
    "\n",
    "print(\"Nice, you got the correct answer!\")"
   ]
  },
  {
   "cell_type": "markdown",
   "metadata": {
    "id": "jju83hyHhAg_"
   },
   "source": [
    "Code demonstration"
   ]
  },
  {
   "cell_type": "code",
   "execution_count": null,
   "metadata": {
    "id": "duJQO4WphAhA"
   },
   "outputs": [],
   "source": [
    "# Code demonstration"
   ]
  },
  {
   "cell_type": "markdown",
   "metadata": {
    "id": "fte3PiIQhAhA"
   },
   "source": [
    "**Code Task:**"
   ]
  },
  {
   "cell_type": "code",
   "execution_count": null,
   "metadata": {
    "id": "mcKJw4PXhAhA"
   },
   "outputs": [],
   "source": [
    "# Code to be implemented during practical\n",
    "# You should prove the function signature."
   ]
  },
  {
   "cell_type": "code",
   "execution_count": null,
   "metadata": {
    "id": "8b3Kk4u1hAhB"
   },
   "outputs": [],
   "source": [
    "# @title Answer to code task (Try not to peek until you've given it a good try!')"
   ]
  },
  {
   "cell_type": "markdown",
   "metadata": {
    "id": "A0lriZAWhAhB"
   },
   "source": [
    "**Group Task:**\n",
    "\n",
    "Task that involves asking your neighbour or a group a question."
   ]
  },
  {
   "cell_type": "markdown",
   "metadata": {
    "id": "fbTsk0MdhAhC"
   },
   "source": [
    "### Subsection - <font color='green'>`Advanced`</font>"
   ]
  },
  {
   "cell_type": "markdown",
   "metadata": {
    "id": "9BOemnkFhAhC"
   },
   "source": [
    "Math foundations:\n"
   ]
  },
  {
   "cell_type": "markdown",
   "metadata": {
    "id": "RfFSWUp9hAhC"
   },
   "source": [
    "**Math Task:**\n",
    "\n",
    "[Optional math task or ask multiple choice question. E.g. the derivation of this would equal a, b or c. We could check this at the end of the prac.]\n"
   ]
  },
  {
   "cell_type": "code",
   "execution_count": null,
   "metadata": {
    "cellView": "form",
    "id": "qzr0F1nqhAhD"
   },
   "outputs": [],
   "source": [
    "selection = \"a\"  # @param [\"a\", \"b\", \"c\"]\n",
    "print(f\"You selected: {selection}\")\n",
    "\n",
    "correct_answer = \"a\"\n",
    "assert selection == correct_answer, \"Incorrect answer, hint ...\"\n",
    "\n",
    "print(\"Nice, you got the correct answer!\")"
   ]
  },
  {
   "cell_type": "markdown",
   "metadata": {
    "id": "RUTbHVYnhAhD"
   },
   "source": [
    "Code demonstration"
   ]
  },
  {
   "cell_type": "code",
   "execution_count": null,
   "metadata": {
    "id": "tWMMpYSDhAhE"
   },
   "outputs": [],
   "source": [
    "# Code demonstration"
   ]
  },
  {
   "cell_type": "markdown",
   "metadata": {
    "id": "yoVsZtSxhAhE"
   },
   "source": [
    "**Code Task:**"
   ]
  },
  {
   "cell_type": "code",
   "execution_count": null,
   "metadata": {
    "id": "cmO3DEGGhAhF"
   },
   "outputs": [],
   "source": [
    "# Code to be implemented during practical\n",
    "# You should prove the function signature."
   ]
  },
  {
   "cell_type": "code",
   "execution_count": null,
   "metadata": {
    "id": "NgsT9Ai0hAhF"
   },
   "outputs": [],
   "source": [
    "# @title Answer to code task (Try not to peek until you've given it a good try!')"
   ]
  },
  {
   "cell_type": "markdown",
   "metadata": {
    "id": "K3SVLHuUhAhF"
   },
   "source": [
    "**Group Task:**\n",
    "\n",
    "Task that involves asking your neighbour or a group a question."
   ]
  },
  {
   "cell_type": "markdown",
   "metadata": {
    "id": "SdNPg0pnhAhG"
   },
   "source": [
    "### Subsection - <font color='purple'>`Optional`</font>"
   ]
  },
  {
   "cell_type": "markdown",
   "metadata": {
    "id": "paVZs7iohAhG"
   },
   "source": [
    "Math foundations:\n"
   ]
  },
  {
   "cell_type": "markdown",
   "metadata": {
    "id": "Pb5GPIJ1hAhG"
   },
   "source": [
    "**Math Task:**\n",
    "\n",
    "[Optional math task or ask multiple choice question. E.g. the derivation of this would equal a, b or c. We could check this at the end of the prac.]\n"
   ]
  },
  {
   "cell_type": "code",
   "execution_count": null,
   "metadata": {
    "cellView": "form",
    "id": "KQGuKRE4hAhH"
   },
   "outputs": [],
   "source": [
    "selection = \"a\"  # @param [\"a\", \"b\", \"c\"]\n",
    "print(f\"You selected: {selection}\")\n",
    "\n",
    "correct_answer = \"a\"\n",
    "assert selection == correct_answer, \"Incorrect answer, hint ...\"\n",
    "\n",
    "print(\"Nice, you got the correct answer!\")"
   ]
  },
  {
   "cell_type": "markdown",
   "metadata": {
    "id": "ulze--aMhAhI"
   },
   "source": [
    "Code demonstration"
   ]
  },
  {
   "cell_type": "code",
   "execution_count": null,
   "metadata": {
    "id": "AKb3jyPShAhI"
   },
   "outputs": [],
   "source": [
    "# Code demonstration"
   ]
  },
  {
   "cell_type": "markdown",
   "metadata": {
    "id": "RFxl1s5BhAhI"
   },
   "source": [
    "**Code Task:**"
   ]
  },
  {
   "cell_type": "code",
   "execution_count": null,
   "metadata": {
    "id": "3Y0ieLz_hAhJ"
   },
   "outputs": [],
   "source": [
    "# Code to be implemented during practical\n",
    "# You should prove the function signature."
   ]
  },
  {
   "cell_type": "code",
   "execution_count": null,
   "metadata": {
    "id": "Y8JwQYXLhAhJ"
   },
   "outputs": [],
   "source": [
    "# @title Answer to code task (Try not to peek until you've given it a good try!')"
   ]
  },
  {
   "cell_type": "markdown",
   "metadata": {
    "id": "MdxcDjuphAhJ"
   },
   "source": [
    "**Group Task:**\n",
    "\n",
    "Task that involves asking your neighbour or a group a question."
   ]
  },
  {
   "cell_type": "markdown",
   "metadata": {
    "id": "hE6hEihPhAhK"
   },
   "source": [
    "### Section Quiz \n",
    "\n",
    "Optional end of section quiz. Below is an example of an assessment."
   ]
  },
  {
   "cell_type": "code",
   "execution_count": null,
   "metadata": {
    "id": "L03B3HKwhAhK"
   },
   "outputs": [],
   "source": [
    "# @title Generate Quiz Form. (Run Cell)\n",
    "from IPython.display import HTML\n",
    "\n",
    "HTML(\n",
    "    \"\"\"\n",
    "<iframe \n",
    "\tsrc=\"https://forms.gle/zbJoTSz3nfYq1VrY6\",\n",
    "  width=\"80%\" \n",
    "\theight=\"1200px\" >\n",
    "\tLoading...\n",
    "</iframe>\n",
    "\"\"\"\n",
    ")"
   ]
  },
  {
   "cell_type": "markdown",
   "metadata": {
    "id": "fV3YG7QOZD-B"
   },
   "source": [
    "## Conclusion\n",
    "**Summary:**\n",
    "\n",
    "[Summary of the main points/takeaways from the prac.]\n",
    "\n",
    "**Next Steps:** \n",
    "\n",
    "[Next steps for people who have completed the prac, like optional reading (e.g. blogs, papers, courses, youtube videos). This could also link to other pracs.]\n",
    "\n",
    "**Appendix:** \n",
    "\n",
    "[Anything (probably math heavy stuff) we don't have space for in the main practical sections.]\n",
    "\n",
    "**References:** \n",
    "\n",
    "[References for any content used in the notebook.]\n",
    "\n",
    "For other practicals from the Deep Learning Indaba, please visit [here](https://github.com/deep-learning-indaba/indaba-pracs-2022)."
   ]
  },
  {
   "cell_type": "markdown",
   "metadata": {
    "id": "o1ndpYE50BpG"
   },
   "source": [
    "## Feedback\n",
    "\n",
    "Please provide feedback that we can use to improve our practicals in the future."
   ]
  },
  {
   "cell_type": "code",
   "execution_count": null,
   "metadata": {
    "id": "OIZvkhfRz9Jz"
   },
   "outputs": [],
   "source": [
    "# @title Generate Feedback Form. (Run Cell)\n",
    "from IPython.display import HTML\n",
    "\n",
    "HTML(\n",
    "    \"\"\"\n",
    "<iframe \n",
    "\tsrc=\"https://forms.gle/bvLLPX74LMGrFefo9\",\n",
    "  width=\"80%\" \n",
    "\theight=\"1200px\" >\n",
    "\tLoading...\n",
    "</iframe>\n",
    "\"\"\"\n",
    ")"
   ]
  },
  {
   "cell_type": "markdown",
   "metadata": {
    "id": "oglV4kHMWnIN"
   },
   "source": [
    "<img src=\"https://baobab.deeplearningindaba.com/static/media/indaba-logo-dark.d5a6196d.png\" width=\"50%\" />"
   ]
  }
 ],
 "metadata": {
  "accelerator": "TPU",
  "colab": {
   "collapsed_sections": [
    "WILOYJH4gCnD"
   ],
   "name": "Indaba_2022_Prac_Template.ipynb",
   "provenance": []
  },
  "gpuClass": "standard",
  "kernelspec": {
   "display_name": "Python 3.8.5 ('base')",
   "language": "python",
   "name": "python3"
  },
  "language_info": {
   "name": "python",
   "version": "3.8.5"
  },
  "vscode": {
   "interpreter": {
    "hash": "145833166d986a8417df3c7acb65d917d84b716b5a452e57fcacdc66f1a168c9"
   }
  }
 },
 "nbformat": 4,
 "nbformat_minor": 0
}
